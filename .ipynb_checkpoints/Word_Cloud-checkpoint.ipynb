{
 "cells": [
  {
   "cell_type": "markdown",
   "metadata": {},
   "source": [
    "# Making a World Cloud"
   ]
  },
  {
   "cell_type": "markdown",
   "metadata": {},
   "source": [
    "## All the required imports"
   ]
  },
  {
   "cell_type": "code",
   "execution_count": null,
   "metadata": {},
   "outputs": [],
   "source": [
    "!pip install wordcloud\n",
    "!pip install fileupload\n",
    "!pip install ipywidgets\n",
    "!jupyter nbextension install --py --user fileupload\n",
    "!jupyter nbextension enable --py fileupload\n"
   ]
  },
  {
   "cell_type": "code",
   "execution_count": 4,
   "metadata": {},
   "outputs": [],
   "source": [
    "# importing required libraries\n",
    "import wordcloud\n",
    "import numpy as np\n",
    "from matplotlib import pyplot as plt\n",
    "from IPython.display import display\n",
    "import fileupload\n",
    "import io\n",
    "import sys"
   ]
  },
  {
   "cell_type": "markdown",
   "metadata": {},
   "source": [
    "To upload your text file, run the following cell that contains all the code for a custom uploader widget. Once you run this cell, a \"Browse\" button should appear below it. Click this button and navigate the window to locate your saved text file."
   ]
  },
  {
   "cell_type": "code",
   "execution_count": 6,
   "metadata": {},
   "outputs": [
    {
     "data": {
      "application/vnd.jupyter.widget-view+json": {
       "model_id": "5a8c13d680d241af98b88ba571822aa2",
       "version_major": 2,
       "version_minor": 0
      },
      "text/plain": [
       "FileUploadWidget(label='Browse', _dom_classes=('widget_item', 'btn-group'))"
      ]
     },
     "metadata": {},
     "output_type": "display_data"
    }
   ],
   "source": [
    "# This is the uploader widget\n",
    "\n",
    "def _upload():\n",
    "\n",
    "    _upload_widget = fileupload.FileUploadWidget()\n",
    "\n",
    "    def _cb(change):\n",
    "        global file_contents\n",
    "        decoded = io.StringIO(change['owner'].data.decode('utf-8'))\n",
    "        filename = change['owner'].filename\n",
    "        print('Uploaded `{}` ({:.2f} kB)'.format(\n",
    "            filename, len(decoded.read()) / 2 **10))\n",
    "        file_contents = decoded.getvalue()\n",
    "\n",
    "    _upload_widget.observe(_cb, names='data')\n",
    "    display(_upload_widget)\n",
    "\n",
    "_upload()"
   ]
  },
  {
   "cell_type": "markdown",
   "metadata": {},
   "source": [
    "The uploader widget saved the contents of your uploaded file into a string object named *file_contents* that your word cloud script can process."
   ]
  },
  {
   "cell_type": "markdown",
   "metadata": {},
   "source": [
    "Function in the cell below that iterates through the words in *file_contents*, removes punctuation, and counts the frequency of each word. It ignore word case, words that do not contain all alphabets and boring words like \"and\" or \"the\".  Then use it in the `generate_from_frequencies` function to generate word cloud.\n",
    "<br><br>\n",
    "\n",
    "**Try storing the results of your iteration in a dictionary before passing them into wordcloud via the `generate_from_frequencies` function.**"
   ]
  },
  {
   "cell_type": "code",
   "execution_count": null,
   "metadata": {},
   "outputs": [],
   "source": [
    "def calculate_frequencies(file_contents):\n",
    "    # Here is a list of punctuations and uninteresting words you can use to process your text\n",
    "    punctuations = '''!()-[]{};:'\"\\,<>./?@#$%^&*_~'''\n",
    "    uninteresting_words = [\"the\", \"a\", \"to\", \"if\", \"is\", \"it\", \"of\", \"and\", \"or\", \"an\", \"as\", \"i\", \"me\", \"my\", \\\n",
    "    \"we\", \"our\", \"ours\", \"you\", \"your\", \"yours\", \"he\", \"she\", \"him\", \"his\", \"her\", \"hers\", \"its\", \"they\", \"them\", \\\n",
    "    \"their\", \"what\", \"which\", \"who\", \"whom\", \"this\", \"that\", \"am\", \"are\", \"was\", \"were\", \"be\", \"been\", \"being\", \\\n",
    "    \"have\", \"has\", \"had\", \"do\", \"does\", \"did\", \"but\", \"at\", \"by\", \"with\", \"from\", \"here\", \"when\", \"where\", \"how\", \\\n",
    "    \"all\", \"any\", \"both\", \"each\", \"few\", \"more\", \"some\", \"such\", \"no\", \"nor\", \"too\", \"very\", \"can\", \"will\", \"just\"]\n",
    "    \n",
    "    # LEARNER CODE START HERE\n",
    "    frequencies = {}\n",
    "    file_contents = file_contents.split()\n",
    "    str1 = \"\"\n",
    "    \n",
    "    for word in file_contents:\n",
    "        str1 = \"\".join(ch for ch in word if ch.isalnum())\n",
    "        if str1.lower() not in uninteresting_words: \n",
    "            if str1.lower() not in frequencies:\n",
    "                frequencies[str1.lower()] = 1\n",
    "            else:\n",
    "                frequencies[str1.lower()] += 1\n",
    "    \n",
    "    #wordcloud\n",
    "    cloud = wordcloud.WordCloud()\n",
    "    cloud.generate_from_frequencies(frequencies)\n",
    "    return cloud.to_array()"
   ]
  },
  {
   "cell_type": "code",
   "execution_count": null,
   "metadata": {},
   "outputs": [],
   "source": [
    "# Display your wordcloud image\n",
    "\n",
    "myimage = calculate_frequencies(file_contents)\n",
    "plt.imshow(myimage, interpolation = 'nearest')\n",
    "plt.axis('off')\n",
    "plt.show()"
   ]
  }
 ],
 "metadata": {
  "kernelspec": {
   "display_name": "Python 3",
   "language": "python",
   "name": "python3"
  },
  "language_info": {
   "codemirror_mode": {
    "name": "ipython",
    "version": 3
   },
   "file_extension": ".py",
   "mimetype": "text/x-python",
   "name": "python",
   "nbconvert_exporter": "python",
   "pygments_lexer": "ipython3",
   "version": "3.7.6"
  }
 },
 "nbformat": 4,
 "nbformat_minor": 4
}
